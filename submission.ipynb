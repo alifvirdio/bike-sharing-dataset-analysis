{
  "cells": [
    {
      "cell_type": "markdown",
      "metadata": {
        "id": "H9wADwK78DCz"
      },
      "source": [
        "# Proyek Analisis Data: [Bike-Sharing-Dataset]\n",
        "- **Nama:** [Alif Virdio Yudhistira Widyawan]\n",
        "- **Email:** [m123b4ky0389@bangkit.academy]\n",
        "- **ID Dicoding:** [superneev]"
      ]
    },
    {
      "cell_type": "markdown",
      "metadata": {
        "id": "eE0raob58DC0"
      },
      "source": [
        "## Menentukan Pertanyaan Bisnis"
      ]
    },
    {
      "cell_type": "markdown",
      "metadata": {
        "id": "GmQeQ5YF8DC0"
      },
      "source": [
        "- Pertanyaan 1 : Berapa total jumlah penyewaan sepeda pada musim gugur (Fall)?\n",
        "- Pertanyaan 2 : Bulan apa yang mengalami penurunan terbesar dalam jumlah pengguna terdaftar, dan berapa selisihnya?\n",
        "- Pertanyaan 3 : Pada bulan apa jumlah pengguna terdaftar mencapai puncaknya di tahun 2011, dan berapa jumlahnya?"
      ]
    },
    {
      "cell_type": "markdown",
      "metadata": {
        "id": "H-z4QGlO8DC1"
      },
      "source": [
        "## Import Semua Packages/Library yang Digunakan"
      ]
    },
    {
      "cell_type": "code",
      "execution_count": 1,
      "metadata": {
        "id": "FVYwaObI8DC1"
      },
      "outputs": [
        {
          "ename": "",
          "evalue": "",
          "output_type": "error",
          "traceback": [
            "\u001b[1;31mThe kernel failed to start as the Python Environment 'Python 3.9.10' is no longer available. Consider selecting another kernel or refreshing the list of Python Environments."
          ]
        }
      ],
      "source": [
        "import numpy as np\n",
        "import pandas as pd\n",
        "import matplotlib.pyplot as plt\n",
        "import seaborn as sns"
      ]
    },
    {
      "cell_type": "markdown",
      "metadata": {
        "id": "h_Sh51Xy8DC1"
      },
      "source": [
        "## Data Wrangling"
      ]
    },
    {
      "cell_type": "markdown",
      "metadata": {
        "id": "sXU2GBYu8DC1"
      },
      "source": [
        "### Gathering Data"
      ]
    },
    {
      "cell_type": "code",
      "execution_count": null,
      "metadata": {
        "colab": {
          "base_uri": "https://localhost:8080/",
          "height": 206
        },
        "id": "zjCBk1BI8DC1",
        "outputId": "3f403d2f-8723-4aa3-b90e-9da12fff09ed"
      },
      "outputs": [],
      "source": [
        "day_dataframe = pd.read_csv('data\\day.csv')\n",
        "day_dataframe.head()"
      ]
    },
    {
      "cell_type": "code",
      "execution_count": null,
      "metadata": {
        "colab": {
          "base_uri": "https://localhost:8080/",
          "height": 206
        },
        "id": "tH3kj6G_mlVP",
        "outputId": "995b8e99-1643-416f-dbae-ceb1508725e5"
      },
      "outputs": [],
      "source": [
        "hour_dataframe = pd.read_csv('data\\hour.csv')\n",
        "hour_dataframe.head()"
      ]
    },
    {
      "cell_type": "markdown",
      "metadata": {
        "id": "MMi6xGaDkbCi"
      },
      "source": [
        "**Insight:**\n",
        "- xxx\n",
        "- xxx"
      ]
    },
    {
      "cell_type": "markdown",
      "metadata": {
        "id": "FHSiqaZp8DC1"
      },
      "source": [
        "### Assessing Data"
      ]
    },
    {
      "cell_type": "code",
      "execution_count": null,
      "metadata": {
        "colab": {
          "base_uri": "https://localhost:8080/"
        },
        "id": "ax-3tEjc9Cj1",
        "outputId": "9847ad80-83a4-4abc-ae71-6feff7b8e729"
      },
      "outputs": [],
      "source": [
        "day_dataframe.info()"
      ]
    },
    {
      "cell_type": "code",
      "execution_count": null,
      "metadata": {
        "colab": {
          "base_uri": "https://localhost:8080/",
          "height": 586
        },
        "id": "_Y9FlC5emp5K",
        "outputId": "2abd8e45-b853-44db-b948-544b9bc7aca5"
      },
      "outputs": [],
      "source": [
        "day_dataframe.isna().sum()"
      ]
    },
    {
      "cell_type": "code",
      "execution_count": null,
      "metadata": {
        "colab": {
          "base_uri": "https://localhost:8080/"
        },
        "id": "pK1EC-8ZmreY",
        "outputId": "d9c9eef1-b982-40ce-9cf0-198528b08f08"
      },
      "outputs": [],
      "source": [
        "day_dataframe.duplicated().sum()"
      ]
    },
    {
      "cell_type": "code",
      "execution_count": null,
      "metadata": {
        "colab": {
          "base_uri": "https://localhost:8080/",
          "height": 300
        },
        "id": "eC9LiLjTmtCe",
        "outputId": "0ea23d05-4483-4e3c-c738-cf4bea4cac5d"
      },
      "outputs": [],
      "source": [
        "day_dataframe.describe()"
      ]
    },
    {
      "cell_type": "code",
      "execution_count": null,
      "metadata": {
        "colab": {
          "base_uri": "https://localhost:8080/"
        },
        "id": "2g5pJCxVmuzf",
        "outputId": "2702ef70-a057-40ce-beb9-b5a501b81ae7"
      },
      "outputs": [],
      "source": [
        "hour_dataframe.info()"
      ]
    },
    {
      "cell_type": "code",
      "execution_count": null,
      "metadata": {
        "colab": {
          "base_uri": "https://localhost:8080/",
          "height": 617
        },
        "id": "uWca9IyfmwbU",
        "outputId": "e4a581e3-a8b2-4896-9ed9-24f0bf4ebffd"
      },
      "outputs": [],
      "source": [
        "hour_dataframe.isna().sum()"
      ]
    },
    {
      "cell_type": "code",
      "execution_count": null,
      "metadata": {
        "colab": {
          "base_uri": "https://localhost:8080/"
        },
        "id": "s_HRMObXmxRN",
        "outputId": "488ef972-0f6d-4018-daa0-98078bbe3f68"
      },
      "outputs": [],
      "source": [
        "hour_dataframe.duplicated().sum()"
      ]
    },
    {
      "cell_type": "code",
      "execution_count": null,
      "metadata": {
        "colab": {
          "base_uri": "https://localhost:8080/",
          "height": 300
        },
        "id": "FEYVYy5Cmy3T",
        "outputId": "3f697a46-ba89-4a8d-9923-215641398393"
      },
      "outputs": [],
      "source": [
        "hour_dataframe.describe()"
      ]
    },
    {
      "cell_type": "markdown",
      "metadata": {
        "id": "7dtxhAPrkhPL"
      },
      "source": [
        "**Insight:**\n",
        "- xxx\n",
        "- xxx"
      ]
    },
    {
      "cell_type": "markdown",
      "metadata": {
        "id": "EhN5R4hr8DC1"
      },
      "source": [
        "### Cleaning Data"
      ]
    },
    {
      "cell_type": "code",
      "execution_count": 12,
      "metadata": {
        "id": "jVnYpprE9Evz"
      },
      "outputs": [],
      "source": [
        "datatime_col = [\"dteday\"]\n",
        "\n",
        "for column in datatime_col :\n",
        "    day_dataframe[column] = pd.to_datetime(day_dataframe[column])"
      ]
    },
    {
      "cell_type": "code",
      "execution_count": null,
      "metadata": {
        "colab": {
          "base_uri": "https://localhost:8080/",
          "height": 206
        },
        "id": "5t17YBrcm1_E",
        "outputId": "2005c5b0-37e0-4cca-bdd6-b0ae74db8211"
      },
      "outputs": [],
      "source": [
        "day_dataframe.head()"
      ]
    },
    {
      "cell_type": "code",
      "execution_count": 14,
      "metadata": {
        "id": "7ltxmsYem4Uf"
      },
      "outputs": [],
      "source": [
        "datetime_col = [\"dteday\"]\n",
        "\n",
        "for column in datetime_col :\n",
        "    hour_dataframe[column] = pd.to_datetime(hour_dataframe[column])"
      ]
    },
    {
      "cell_type": "code",
      "execution_count": null,
      "metadata": {
        "colab": {
          "base_uri": "https://localhost:8080/"
        },
        "id": "LJ847_wQm6fy",
        "outputId": "2266b24b-a57a-4456-9f9f-a0bae2e8f381"
      },
      "outputs": [],
      "source": [
        "hour_dataframe.info()"
      ]
    },
    {
      "cell_type": "code",
      "execution_count": 16,
      "metadata": {
        "id": "HaGRH4-Qm7W0"
      },
      "outputs": [],
      "source": [
        "day_dataframe.rename(columns={\n",
        "    'instant' : 'record_id',\n",
        "    'yr' : 'year',\n",
        "    'dteday' : 'date-day',\n",
        "    'mnth' : 'month',\n",
        "    'hum' : 'humidity',\n",
        "    'weathersit' : 'weather-condition',\n",
        "    'cnt' : 'count_total'\n",
        "},inplace=True)"
      ]
    },
    {
      "cell_type": "code",
      "execution_count": null,
      "metadata": {
        "colab": {
          "base_uri": "https://localhost:8080/",
          "height": 206
        },
        "id": "2g1MjQLLm95-",
        "outputId": "ceb0e410-fa1d-42cd-f61d-af89ef491b8c"
      },
      "outputs": [],
      "source": [
        "day_dataframe.tail()"
      ]
    },
    {
      "cell_type": "code",
      "execution_count": 18,
      "metadata": {
        "id": "jmkY92zrm_wn"
      },
      "outputs": [],
      "source": [
        "hour_dataframe.rename(columns={\n",
        "    'instant' : 'record_id',\n",
        "    'yr' : 'year',\n",
        "    'dteday' : 'date-day',\n",
        "    'mnth' : 'month',\n",
        "    'hum' : 'humidity',\n",
        "    'weathersit' : 'weather-condition',\n",
        "    'cnt' : 'count_total'\n",
        "},inplace=True)"
      ]
    },
    {
      "cell_type": "code",
      "execution_count": null,
      "metadata": {
        "colab": {
          "base_uri": "https://localhost:8080/",
          "height": 206
        },
        "id": "n-29tbC0nCNi",
        "outputId": "29432c15-1191-48be-d92c-d9d96500f325"
      },
      "outputs": [],
      "source": [
        "hour_dataframe.tail()"
      ]
    },
    {
      "cell_type": "markdown",
      "metadata": {
        "id": "Q_5ejIqckiSP"
      },
      "source": [
        "**Insight:**\n",
        "- xxx\n",
        "- xxx"
      ]
    },
    {
      "cell_type": "markdown",
      "metadata": {
        "id": "gp-Y6wU38DC1"
      },
      "source": [
        "## Exploratory Data Analysis (EDA)"
      ]
    },
    {
      "cell_type": "markdown",
      "metadata": {
        "id": "MW7WF2kr8DC1"
      },
      "source": [
        "### Explore ..."
      ]
    },
    {
      "cell_type": "code",
      "execution_count": null,
      "metadata": {
        "colab": {
          "base_uri": "https://localhost:8080/",
          "height": 241
        },
        "id": "e9CQCZjk8DC2",
        "outputId": "f8d3ff3f-efe3-45d3-f2bd-6401bb5c73e9"
      },
      "outputs": [],
      "source": [
        "day_dataframe.groupby(by='season').record_id.nunique().sort_values(ascending=False)"
      ]
    },
    {
      "cell_type": "code",
      "execution_count": null,
      "metadata": {
        "colab": {
          "base_uri": "https://localhost:8080/",
          "height": 210
        },
        "id": "mID-A4t7nH6p",
        "outputId": "6e67a50b-0716-4cd8-d80e-8d93e0e82dff"
      },
      "outputs": [],
      "source": [
        "day_dataframe.groupby(by=\"weather-condition\").record_id.nunique().sort_values(ascending=False)"
      ]
    },
    {
      "cell_type": "code",
      "execution_count": null,
      "metadata": {
        "colab": {
          "base_uri": "https://localhost:8080/",
          "height": 335
        },
        "id": "BxlF4gUynJ1A",
        "outputId": "68263f1d-cc33-4f77-cd15-71b061de245a"
      },
      "outputs": [],
      "source": [
        "day_dataframe.groupby(by='weekday').record_id.nunique().sort_values(ascending=False)"
      ]
    },
    {
      "cell_type": "code",
      "execution_count": null,
      "metadata": {
        "colab": {
          "base_uri": "https://localhost:8080/",
          "height": 241
        },
        "id": "0fUdtNrNnMRz",
        "outputId": "2a8288ef-412d-4f44-8635-9ce7ed68a60d"
      },
      "outputs": [],
      "source": [
        "day_dataframe.groupby(by='season').record_id.nunique().sort_values(ascending=False)"
      ]
    },
    {
      "cell_type": "markdown",
      "metadata": {
        "id": "th_Lzl2Fkj9O"
      },
      "source": [
        "**Insight:**\n",
        "- xxx\n",
        "- xxx"
      ]
    },
    {
      "cell_type": "markdown",
      "metadata": {
        "id": "zsyZjqak8DC2"
      },
      "source": [
        "## Visualization & Explanatory Analysis"
      ]
    },
    {
      "cell_type": "markdown",
      "metadata": {
        "id": "HZxOiQ6n8DC2"
      },
      "source": [
        "### Pertanyaan 1:"
      ]
    },
    {
      "cell_type": "code",
      "execution_count": 24,
      "metadata": {
        "id": "1swJUdAD8DC2"
      },
      "outputs": [],
      "source": [
        "season_dataframe = day_dataframe.groupby(\"season\").count_total.sum().sort_values(ascending=False).reset_index()"
      ]
    },
    {
      "cell_type": "code",
      "execution_count": 25,
      "metadata": {
        "id": "7h4elX63ohyR"
      },
      "outputs": [],
      "source": [
        "season_rename = {1: 'Spring', 2: 'Summer', 3: 'Fall', 4: 'Winter'}\n",
        "season_dataframe['season'] = season_dataframe['season'].replace(season_rename)"
      ]
    },
    {
      "cell_type": "code",
      "execution_count": null,
      "metadata": {
        "colab": {
          "base_uri": "https://localhost:8080/",
          "height": 175
        },
        "id": "w6PshoQjuTJx",
        "outputId": "9092a5be-9aec-40f1-92f1-737187c89886"
      },
      "outputs": [],
      "source": [
        "season_dataframe.head()"
      ]
    },
    {
      "cell_type": "code",
      "execution_count": null,
      "metadata": {
        "colab": {
          "base_uri": "https://localhost:8080/",
          "height": 1000
        },
        "id": "mTo1-zYxunKC",
        "outputId": "c8c84fee-7d02-46cc-b7fb-b18423630d22"
      },
      "outputs": [],
      "source": [
        "fig, ax = plt.subplots(nrows=1, ncols=2, figsize=(12, 6))\n",
        "\n",
        "colors = [\"#ff4700\", \"#e5ff00\", \"#00ff59\", \"#00ffe3\"]\n",
        "\n",
        "sns.barplot(x=\"count_total\", y=\"season\", data=season_dataframe.head(), palette=colors, ax=ax[0])\n",
        "ax[0].set_ylabel(None)\n",
        "ax[0].set_xlabel(None)\n",
        "ax[0].set_title(\"Best Season for Renting\", loc=\"center\", fontsize=13)\n",
        "ax[0].tick_params(axis='y', labelsize=12)\n",
        "\n",
        "sns.barplot(x=\"count_total\", y=\"season\", data=season_dataframe.sort_values(by=\"count_total\", ascending=True).head(), palette=colors, ax=ax[1])\n",
        "ax[1].set_ylabel(None)\n",
        "ax[1].set_xlabel(None)\n",
        "ax[1].invert_xaxis()\n",
        "ax[1].yaxis.set_label_position(\"right\")\n",
        "ax[1].set_title(\"Worst Season for Renting\", loc=\"center\", fontsize=13)\n",
        "ax[1].tick_params(axis='y', labelsize=12)\n",
        "\n",
        "plt.suptitle(\"Best and Worst Season for Renting Bike\", fontsize=15)\n",
        "plt.show()"
      ]
    },
    {
      "cell_type": "markdown",
      "metadata": {
        "id": "DgHI7CiU8DC2"
      },
      "source": [
        "### Pertanyaan 2:"
      ]
    },
    {
      "cell_type": "code",
      "execution_count": null,
      "metadata": {
        "colab": {
          "base_uri": "https://localhost:8080/"
        },
        "id": "Go0lCsvO8DC2",
        "outputId": "3dae0ba7-f6f4-481c-f694-fd11f57984f2"
      },
      "outputs": [],
      "source": [
        "user_month_df = day_dataframe.groupby(\"month\").registered.sum().reset_index()\n",
        "print(user_month_df)"
      ]
    },
    {
      "cell_type": "code",
      "execution_count": 29,
      "metadata": {
        "id": "A6W3yT6ymjsN"
      },
      "outputs": [],
      "source": [
        "month_rename = {1: 'January', 2: 'February', 3: 'March', 4: 'April', 5:'May', 6:'June', 7:'July', 8:'August', 9:'September', 10:'October', 11:'November', 12:'December'}\n",
        "user_month_df['month'] = user_month_df['month'].replace(month_rename)"
      ]
    },
    {
      "cell_type": "code",
      "execution_count": null,
      "metadata": {
        "colab": {
          "base_uri": "https://localhost:8080/",
          "height": 601
        },
        "id": "0F3w6RGnmylt",
        "outputId": "1758f58d-181e-4fbd-91fa-04860f99445f"
      },
      "outputs": [],
      "source": [
        "plt.figure(figsize=(12, 6))\n",
        "sns.set_theme(style=\"whitegrid\")\n",
        "\n",
        "# Create the line plot with Seaborn\n",
        "sns.lineplot(\n",
        "    data=user_month_df,\n",
        "    x=\"month\",\n",
        "    y=\"registered\",\n",
        "    marker='o',\n",
        "    linewidth=2.5,\n",
        "    color=\"#0006ff\"\n",
        ")\n",
        "\n",
        "# Enhancing the plot appearance\n",
        "plt.title(\"Number of Registered Users per Month (2011-2012)\", loc=\"center\", fontsize=22, fontweight='bold')\n",
        "plt.xlabel(\"Month\", fontsize=14, fontweight='bold')\n",
        "plt.ylabel(\"Number of Registered Users\", fontsize=14, fontweight='bold')\n",
        "plt.xticks(rotation=45, fontsize=12)\n",
        "plt.yticks(fontsize=12)\n",
        "plt.grid(visible=True, linestyle='--', alpha=0.7)\n",
        "plt.tight_layout()\n",
        "\n",
        "plt.show()"
      ]
    },
    {
      "cell_type": "markdown",
      "metadata": {
        "id": "eEjC4RQQ09sx"
      },
      "source": [
        "Pertanyaan 3:"
      ]
    },
    {
      "cell_type": "code",
      "execution_count": 31,
      "metadata": {
        "id": "2Me76N0m1K7B"
      },
      "outputs": [],
      "source": [
        "registered_user_df = day_dataframe.loc[:, ['year', 'month', 'registered']]"
      ]
    },
    {
      "cell_type": "code",
      "execution_count": null,
      "metadata": {
        "colab": {
          "base_uri": "https://localhost:8080/",
          "height": 206
        },
        "id": "LJj_X38M1Lhp",
        "outputId": "8768964b-8a07-4a83-cf6d-135460b7560b"
      },
      "outputs": [],
      "source": [
        "registered_user_df.head()"
      ]
    },
    {
      "cell_type": "code",
      "execution_count": 33,
      "metadata": {
        "id": "Ee21MSHp1OAB"
      },
      "outputs": [],
      "source": [
        "month_rename = {\n",
        "    1: 'January', 2: 'February', 3: 'March', 4: 'April', 5: 'May', 6: 'June',\n",
        "    7: 'July', 8: 'August', 9: 'September', 10: 'October', 11: 'November', 12: 'December'\n",
        "}\n",
        "\n",
        "registered_user_df['month'] = registered_user_df['month'].replace(month_rename)\n"
      ]
    },
    {
      "cell_type": "code",
      "execution_count": 34,
      "metadata": {
        "id": "1dVsVU3x1PRJ"
      },
      "outputs": [],
      "source": [
        "registered_user_df = registered_user_df.groupby(['year', 'month'])['registered'].sum().reset_index()"
      ]
    },
    {
      "cell_type": "code",
      "execution_count": 35,
      "metadata": {
        "id": "XRjEjZOx07cJ"
      },
      "outputs": [],
      "source": [
        "month_order = [\n",
        "    'January', 'February', 'March', 'April', 'May', 'June',\n",
        "    'July', 'August', 'September', 'October', 'November', 'December'\n",
        "]\n",
        "registered_user_df['month'] = pd.Categorical(registered_user_df['month'], categories=month_order, ordered=True)"
      ]
    },
    {
      "cell_type": "code",
      "execution_count": null,
      "metadata": {
        "colab": {
          "base_uri": "https://localhost:8080/",
          "height": 206
        },
        "id": "RY3f35p81lZf",
        "outputId": "aa9a4603-5544-45e7-8173-1c7557e93dbd"
      },
      "outputs": [],
      "source": [
        "registered_user_df.head()"
      ]
    },
    {
      "cell_type": "code",
      "execution_count": null,
      "metadata": {
        "colab": {
          "base_uri": "https://localhost:8080/",
          "height": 679
        },
        "id": "OnnMhwQ811Do",
        "outputId": "842ea7ee-71b6-47c2-8cb7-958fb24fb1d3"
      },
      "outputs": [],
      "source": [
        "registered_user_df = registered_user_df.sort_values(by=['year', 'month']).reset_index(drop=True)\n",
        "\n",
        "month_abbrev = {\n",
        "    'January': 'Jan', 'February': 'Feb', 'March': 'Mar', 'April': 'Apr',\n",
        "    'May': 'May', 'June': 'Jun', 'July': 'Jul', 'August': 'Aug',\n",
        "    'September': 'Sep', 'October': 'Oct', 'November': 'Nov', 'December': 'Dec'\n",
        "}\n",
        "\n",
        "registered_user_df['month'] = registered_user_df['month'].replace(month_abbrev)\n",
        "\n",
        "plt.figure(figsize=(12, 6))\n",
        "sns.lineplot(data=registered_user_df, x='month', y='registered', hue='year', marker='o', palette='muted', linewidth=3.5)\n",
        "\n",
        "plt.xlabel('Month')\n",
        "plt.ylabel('Total Registered Users')\n",
        "plt.title('Total Registered Users by Month (2011 vs. 2012)')\n",
        "plt.legend(title='Year')\n",
        "plt.xticks(rotation=45)\n",
        "plt.grid(axis='y', linestyle='--')\n",
        "plt.show()"
      ]
    },
    {
      "cell_type": "markdown",
      "metadata": {
        "id": "_0-36BDLklRg"
      },
      "source": [
        "**Insight:**\n",
        "- xxx\n",
        "- xxx"
      ]
    },
    {
      "cell_type": "code",
      "execution_count": 39,
      "metadata": {
        "id": "HfWpGQEh1TL4"
      },
      "outputs": [],
      "source": [
        "day_dataframe.to_csv(\"dashboard/new_day.csv\", index=False)"
      ]
    },
    {
      "cell_type": "markdown",
      "metadata": {
        "id": "9y4VUsmcYNZ5"
      },
      "source": [
        "## Analisis Lanjutan (Opsional)"
      ]
    },
    {
      "cell_type": "code",
      "execution_count": null,
      "metadata": {
        "id": "iWhnzsJGYUCO"
      },
      "outputs": [],
      "source": []
    },
    {
      "cell_type": "markdown",
      "metadata": {
        "id": "_WeHlCeX8DC2"
      },
      "source": [
        "## Conclusion"
      ]
    },
    {
      "cell_type": "markdown",
      "metadata": {
        "id": "ZTcyR48Y8DC2"
      },
      "source": [
        "- Conclution pertanyaan 1 : Berdasarkan visualisasi data di atas, terlihat bahwa musim dengan tingkat penyewaan sepeda tertinggi adalah musim gugur (Fall), diikuti oleh musim panas (Summer), musim dingin (Winter), dan musim semi (Spring), dengan musim semi memiliki tingkat penyewaan yang lebih rendah dibandingkan ketiga musim lainnya.\n",
        "\n",
        "- Conclution pertanyaan 2 : Dari grafik garis pada visualisasi, terlihat bahwa jumlah pengguna terdaftar (registered user) pada bulan Januari hingga April lebih rendah dibandingkan dengan bulan Mei hingga Oktober. Pada bulan April ke Mei, terdapat lonjakan signifikan pada jumlah pengguna terdaftar, yang berkaitan dengan data sebelumnya tentang musim dengan tingkat penyewaan sepeda yang tinggi, yaitu musim gugur, yang berlangsung dari Agustus hingga Oktober.\n",
        "\n",
        "- Conclusion pertanyaan 3 : Jumlah pengguna terdaftar pada tahun 2012 (garis oranye) secara konsisten lebih tinggi dibandingkan tahun 2011 (garis biru) di semua bulan. Ini menunjukkan pertumbuhan yang signifikan dalam jumlah pengguna sepeda antara tahun 2011 dan 2012."
      ]
    }
  ],
  "metadata": {
    "colab": {
      "provenance": []
    },
    "kernelspec": {
      "display_name": "AnalisisDataPhyton",
      "language": "python",
      "name": "python3"
    },
    "language_info": {
      "codemirror_mode": {
        "name": "ipython",
        "version": 3
      },
      "file_extension": ".py",
      "mimetype": "text/x-python",
      "name": "python",
      "nbconvert_exporter": "python",
      "pygments_lexer": "ipython3",
      "version": "3.9.10"
    },
    "orig_nbformat": 4
  },
  "nbformat": 4,
  "nbformat_minor": 0
}
